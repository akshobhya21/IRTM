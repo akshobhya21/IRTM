{
  "cells": [
    {
      "cell_type": "markdown",
      "source": [
        "  **Total Number of Words**"
      ],
      "metadata": {
        "id": "Pzd_6ZSJhoY0"
      },
      "id": "Pzd_6ZSJhoY0"
    },
    {
      "cell_type": "code",
      "execution_count": null,
      "id": "7a3f0504",
      "metadata": {
        "id": "7a3f0504"
      },
      "outputs": [],
      "source": [
        "import pandas as pd\n",
        "\n",
        "# Read the contents of each file\n",
        "with open(\"C:/Users/aksho/OneDrive/Documents/IRTM Project/Whirlwind_part2.txt\", \"r\", encoding=\"utf-8\") as file:\n",
        "    file2 = file.read()\n",
        "\n",
        "with open(\"C:/Users/aksho/OneDrive/Documents/IRTM Project/ponniyin-selvan-the-killer-sword-part-3.txt\", \"r\", encoding=\"utf-8\") as file:\n",
        "    file3 = file.read()\n",
        "\n",
        "with open(\"C:/Users/aksho/OneDrive/Documents/IRTM Project/ponniyin-selvan-the-crown-part-4.txt\", \"r\", encoding=\"utf-8\") as file:\n",
        "    file4 = file.read()\n",
        "\n",
        "with open(\"C:/Users/aksho/OneDrive/Documents/IRTM Project/ponniyin-selvan-the-supreme-sacrifice-part-5.txt\", \"r\", encoding=\"utf-8\") as file:\n",
        "    file5 = file.read()\n",
        "\n",
        "with open(\"C:/Users/aksho/OneDrive/Documents/IRTM Project/Ponniyin_Selvan_-_Kalki.txt\", \"r\", encoding=\"utf-8\") as file:\n",
        "    file1 = file.read()\n",
        "\n",
        "# Create a list of file contents and their corresponding metadata\n",
        "data = [\n",
        "    [\"Book 1\", \"Fresh Floods\", 1,  file1, len(file1.split())],\n",
        "    [\"Book 2\", \"Whirlwind\", 2,  file2, len(file2.split())],\n",
        "    [\"Book 3\", \"The Killer Sword\", 3,  file3, len(file3.split())],\n",
        "    [\"Book 4\", \"The Crown\", 4,  file4, len(file4.split())],\n",
        "    [\"Book 5\", \"The Supreme Sacrifice\", 5, file5, len(file5.split())]\n",
        "]\n",
        "\n",
        "# Create a DataFrame from the data list\n",
        "df = pd.DataFrame(data, columns=[\"Book Number\", \"Book Name\", \"Chapter Number\",\"WordCloudText\", \"WordCount\"])\n"
      ]
    },
    {
      "cell_type": "code",
      "execution_count": null,
      "id": "2e5597df",
      "metadata": {
        "id": "2e5597df",
        "outputId": "4a72c24b-6697-4de6-e3cf-069fb8d33dea"
      },
      "outputs": [
        {
          "data": {
            "text/html": [
              "<div>\n",
              "<style scoped>\n",
              "    .dataframe tbody tr th:only-of-type {\n",
              "        vertical-align: middle;\n",
              "    }\n",
              "\n",
              "    .dataframe tbody tr th {\n",
              "        vertical-align: top;\n",
              "    }\n",
              "\n",
              "    .dataframe thead th {\n",
              "        text-align: right;\n",
              "    }\n",
              "</style>\n",
              "<table border=\"1\" class=\"dataframe\">\n",
              "  <thead>\n",
              "    <tr style=\"text-align: right;\">\n",
              "      <th></th>\n",
              "      <th>Book Number</th>\n",
              "      <th>Book Name</th>\n",
              "      <th>Chapter Number</th>\n",
              "      <th>WordCloudText</th>\n",
              "      <th>WordCount</th>\n",
              "    </tr>\n",
              "  </thead>\n",
              "  <tbody>\n",
              "    <tr>\n",
              "      <th>0</th>\n",
              "      <td>Book 1</td>\n",
              "      <td>Fresh Floods</td>\n",
              "      <td>1</td>\n",
              "      <td>Ponniyin Selvan\\nBook 1: Fresh Floods\\nKalki ...</td>\n",
              "      <td>132409</td>\n",
              "    </tr>\n",
              "    <tr>\n",
              "      <th>1</th>\n",
              "      <td>Book 2</td>\n",
              "      <td>Whirlwind</td>\n",
              "      <td>2</td>\n",
              "      <td>Whirlwind\\nPonni’s Beloved -- Part 2\\nKalki’s ...</td>\n",
              "      <td>111183</td>\n",
              "    </tr>\n",
              "    <tr>\n",
              "      <th>2</th>\n",
              "      <td>Book 3</td>\n",
              "      <td>The Killer Sword</td>\n",
              "      <td>3</td>\n",
              "      <td>Ponniyin Selvan Part 3\\n\\nThe Killer Sword\\n\\n...</td>\n",
              "      <td>104019</td>\n",
              "    </tr>\n",
              "    <tr>\n",
              "      <th>3</th>\n",
              "      <td>Book 4</td>\n",
              "      <td>The Crown</td>\n",
              "      <td>4</td>\n",
              "      <td>Ponniyin Selvan Part 4\\n\\nThe Crown\\n\\nAuthor...</td>\n",
              "      <td>97960</td>\n",
              "    </tr>\n",
              "    <tr>\n",
              "      <th>4</th>\n",
              "      <td>Book 5</td>\n",
              "      <td>The Supreme Sacrifice</td>\n",
              "      <td>5</td>\n",
              "      <td>Ponniyin Selvan Part 5\\n\\nThe Supreme Sacrifi...</td>\n",
              "      <td>210007</td>\n",
              "    </tr>\n",
              "  </tbody>\n",
              "</table>\n",
              "</div>"
            ],
            "text/plain": [
              "  Book Number              Book Name  Chapter Number  \\\n",
              "0      Book 1           Fresh Floods               1   \n",
              "1      Book 2              Whirlwind               2   \n",
              "2      Book 3       The Killer Sword               3   \n",
              "3      Book 4              The Crown               4   \n",
              "4      Book 5  The Supreme Sacrifice               5   \n",
              "\n",
              "                                       WordCloudText  WordCount  \n",
              "0  \n",
              "Ponniyin Selvan\\nBook 1: Fresh Floods\\nKalki ...     132409  \n",
              "1  Whirlwind\\nPonni’s Beloved -- Part 2\\nKalki’s ...     111183  \n",
              "2  Ponniyin Selvan Part 3\\n\\nThe Killer Sword\\n\\n...     104019  \n",
              "3  \n",
              "Ponniyin Selvan Part 4\\n\\nThe Crown\\n\\nAuthor...      97960  \n",
              "4  \n",
              "Ponniyin Selvan Part 5\\n\\nThe Supreme Sacrifi...     210007  "
            ]
          },
          "execution_count": 100,
          "metadata": {},
          "output_type": "execute_result"
        }
      ],
      "source": [
        "df"
      ]
    },
    {
      "cell_type": "code",
      "execution_count": null,
      "id": "7460c519",
      "metadata": {
        "id": "7460c519"
      },
      "outputs": [],
      "source": [
        "#Import packages\n",
        "%matplotlib inline\n",
        "\n",
        "import matplotlib\n",
        "import matplotlib.pyplot as plt\n",
        "import numpy as np\n",
        "\n",
        "#Set defaults for graph formats\n",
        "plt.rcParams['figure.figsize']=(15,10) #Sets default for the size of the graph\n",
        "matplotlib.rcParams['axes.titlesize']=24 #Sets default for the size of the title\n",
        "matplotlib.rcParams['axes.labelsize']=20 #Sets default for the size of the x/y axis labels"
      ]
    },
    {
      "cell_type": "code",
      "execution_count": null,
      "id": "6c551d64",
      "metadata": {
        "id": "6c551d64",
        "outputId": "2bddf2ef-dae1-460b-d1ba-bb735983313a"
      },
      "outputs": [
        {
          "data": {
            "image/png": "[encoded data removed]",
            "text/plain": [
              "<Figure size 1080x720 with 1 Axes>"
            ]
          },
          "metadata": {},
          "output_type": "display_data"
        }
      ],
      "source": [
        "import pandas as pd\n",
        "import matplotlib.pyplot as plt\n",
        "import numpy as np\n",
        "\n",
        "# Assuming you already have the dataframe 'df' containing the chapter information\n",
        "\n",
        "# Extract the book numbers and corresponding means\n",
        "x = chapter_means.index\n",
        "y = chapter_means.values\n",
        "\n",
        "# Plotting the bar chart\n",
        "x_pos = np.arange(len(x))\n",
        "plt.style.use('ggplot')\n",
        "barchart = plt.bar(x_pos, y, color=['#DC8458', '#950702', '#8E067D', '#2E8C44', '#395196'])\n",
        "\n",
        "plt.xlabel(\"Book Volume names\")\n",
        "plt.ylabel(\"Word Count\")\n",
        "plt.title(\"Total Number of Words Per chapter of each volume book\")\n",
        "\n",
        "# Set the book titles as x-tick labels\n",
        "BookTitles = ['Fresh Floods', 'Whirlwind', 'The Killer Sword', 'The Crown', 'The Supreme Sacrifice']\n",
        "plt.xticks(x_pos, BookTitles)\n",
        "\n",
        "# Add counts above the bar graphs\n",
        "for bar in barchart:\n",
        "    height = bar.get_height()\n",
        "    plt.text(bar.get_x() + bar.get_width() / 2.0, height, '%d' % int(height), ha='center', va='bottom')\n",
        "\n",
        "# Show the plot\n",
        "plt.show()\n"
      ]
    }
  ],
  "metadata": {
    "kernelspec": {
      "display_name": "Python 3 (ipykernel)",
      "language": "python",
      "name": "python3"
    },
    "language_info": {
      "codemirror_mode": {
        "name": "ipython",
        "version": 3
      },
      "file_extension": ".py",
      "mimetype": "text/x-python",
      "name": "python",
      "nbconvert_exporter": "python",
      "pygments_lexer": "ipython3",
      "version": "3.9.12"
    },
    "colab": {
      "provenance": []
    }
  },
  "nbformat": 4,
  "nbformat_minor": 5
}